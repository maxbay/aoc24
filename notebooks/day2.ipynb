{
 "cells": [
  {
   "cell_type": "code",
   "execution_count": 18,
   "metadata": {},
   "outputs": [
    {
     "name": "stdout",
     "output_type": "stream",
     "text": [
      "Part 1:\n",
      "490\n",
      "Part 2:\n",
      "536\n"
     ]
    }
   ],
   "source": [
    "import numpy as np\n",
    "\n",
    "with open(\"../data/day2_dat.txt\", 'r') as file:\n",
    "    lines = file.readlines()  \n",
    "    data = [[int(x) for x in line.split()] for line in lines]\n",
    "\n",
    "# Part 1\n",
    "is_valid1 = []\n",
    "for i, row in enumerate(data):\n",
    "\n",
    "    row_length = len(row)\n",
    "    left = np.array(row[:row_length-1])\n",
    "    right = np.array(row[1:])\n",
    "\n",
    "    element_diff = np.abs(right - left)\n",
    "    element_dir = np.sign(right - left)\n",
    "\n",
    "    if np.all(element_diff <= 3) and len(np.unique(element_dir)) == 1:\n",
    "        is_valid1.append(i)\n",
    "\n",
    "print('Part 1:')\n",
    "print(len(is_valid1))\n",
    "\n",
    "\n",
    "# Part 2\n",
    "is_valid2 = []\n",
    "for i, row in enumerate(data):\n",
    "    for j in range(len(row)):\n",
    "\n",
    "        modified_row = row.copy()\n",
    "        modified_row.pop(j) \n",
    "        \n",
    "        row_length = len(modified_row)\n",
    "        left = np.array(modified_row[:row_length-1])\n",
    "        right = np.array(modified_row[1:])\n",
    "\n",
    "        element_diff = np.abs(right - left)\n",
    "        element_dir = np.sign(right - left)\n",
    "\n",
    "        if np.all(element_diff <= 3) and len(np.unique(element_dir)) == 1:\n",
    "            is_valid2.append(i)\n",
    "            break  \n",
    "\n",
    "print('Part 2:')\n",
    "print(len(is_valid2))\n",
    "\n",
    "\n"
   ]
  }
 ],
 "metadata": {
  "kernelspec": {
   "display_name": "py310",
   "language": "python",
   "name": "python3"
  },
  "language_info": {
   "codemirror_mode": {
    "name": "ipython",
    "version": 3
   },
   "file_extension": ".py",
   "mimetype": "text/x-python",
   "name": "python",
   "nbconvert_exporter": "python",
   "pygments_lexer": "ipython3",
   "version": "3.10.13"
  }
 },
 "nbformat": 4,
 "nbformat_minor": 2
}
