{
 "cells": [
  {
   "cell_type": "code",
   "execution_count": 63,
   "metadata": {},
   "outputs": [
    {
     "name": "stdout",
     "output_type": "stream",
     "text": [
      "Part 1:\n",
      "3508942\n",
      "Part 2:\n",
      "26593248\n"
     ]
    }
   ],
   "source": [
    "import numpy as np\n",
    "\n",
    "# Import Data \n",
    "with open(\"../data/day1_dat.txt\", 'r') as file:\n",
    "    lines = file.readlines()  \n",
    "    first_col = np.array([int(line.split()[0]) for line in lines])\n",
    "    second_col = np.array([int(line.split()[1]) for line in lines])\n",
    "\n",
    "# Part 1\n",
    "first_col_sorted = np.sort(first_col)\n",
    "second_col_sorted = np.sort(second_col)\n",
    "diff = np.abs(first_col_sorted - second_col_sorted)\n",
    "\n",
    "print('Part 1:')\n",
    "print(diff.sum())\n",
    "\n",
    "#Part 2\n",
    "n_obs = np.array([id1 * np.count_nonzero(second_col_sorted == id1) for id1 in first_col_sorted])\n",
    "\n",
    "print('Part 2:')\n",
    "print(n_obs.sum())\n",
    "\n"
   ]
  }
 ],
 "metadata": {
  "kernelspec": {
   "display_name": "py310",
   "language": "python",
   "name": "python3"
  },
  "language_info": {
   "codemirror_mode": {
    "name": "ipython",
    "version": 3
   },
   "file_extension": ".py",
   "mimetype": "text/x-python",
   "name": "python",
   "nbconvert_exporter": "python",
   "pygments_lexer": "ipython3",
   "version": "3.10.13"
  }
 },
 "nbformat": 4,
 "nbformat_minor": 2
}
