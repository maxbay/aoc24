{
 "cells": [
  {
   "cell_type": "code",
   "execution_count": 77,
   "metadata": {},
   "outputs": [
    {
     "name": "stdout",
     "output_type": "stream",
     "text": [
      "Part 1:\n",
      "173731097\n"
     ]
    }
   ],
   "source": [
    "import re\n",
    "import numpy as np\n",
    "\n",
    "with open(\"../data/day3_dat.txt\", 'r') as file:\n",
    "    content = file.read()\n",
    "    \n",
    "# Part 1\n",
    "mul_regex = r\"mul\\((\\d+),(\\d+)\\)\"\n",
    "\n",
    "matches = re.findall(mul_regex, content)\n",
    "\n",
    "mul_array = np.asarray([[int(x) for x in mul_pair] for mul_pair in matches]) \n",
    "\n",
    "print(\"Part 1:\")\n",
    "print(np.sum(mul_array[:,0] * mul_array[:,1]))\n",
    "\n"
   ]
  },
  {
   "cell_type": "code",
   "execution_count": 76,
   "metadata": {},
   "outputs": [
    {
     "name": "stdout",
     "output_type": "stream",
     "text": [
      "Part 2:\n",
      "93729253\n"
     ]
    }
   ],
   "source": [
    "# Part 2\n",
    "\n",
    "do_regex = r\"do\\(\\)\"\n",
    "dont_regex = r\"don't\\(\\)\"\n",
    "mul_regex = r\"mul\\((\\d+),(\\d+)\\)\"\n",
    "\n",
    "mul_matches = []\n",
    "mul_locations = []  \n",
    "do_locations = []\n",
    "dont_locations = []\n",
    "\n",
    "for match in re.finditer(mul_regex, content):\n",
    "    mul_matches.append(match.groups())\n",
    "    mul_locations.append(match.start())\n",
    "\n",
    "for match in re.finditer(do_regex, content):\n",
    "    do_locations.append( match.start())\n",
    "\n",
    "for match in re.finditer(dont_regex, content):\n",
    "    dont_locations.append(match.start())\n",
    "\n",
    "mul_array = np.asarray([[int(x) for x in mul_pair] for mul_pair in matches]) \n",
    "\n",
    "mul_locations = np.asarray(mul_locations)\n",
    "do_locations = np.asarray(do_locations)\n",
    "dont_locations = np.asarray(dont_locations)\n",
    "\n",
    "max_idx = mul_locations.max()\n",
    "\n",
    "active = True\n",
    "active_locations = np.ones(max_idx + 1, dtype=bool) \n",
    "for i in range(max_idx):\n",
    "    if i in dont_locations:\n",
    "        active_locations[i:] = False\n",
    "    elif i in do_locations:\n",
    "        active_locations[i:] = True\n",
    "\n",
    "active_indices = np.where(active_locations)[0]\n",
    "\n",
    "mul_mask = np.isin(mul_locations, active_indices)\n",
    "\n",
    "mul_array_filter = mul_array[mul_mask]\n",
    "\n",
    "print(\"Part 2:\")\n",
    "print(np.sum(mul_array_filter[:,0] * mul_array_filter[:,1]))\n",
    "\n"
   ]
  }
 ],
 "metadata": {
  "kernelspec": {
   "display_name": "py310",
   "language": "python",
   "name": "python3"
  },
  "language_info": {
   "codemirror_mode": {
    "name": "ipython",
    "version": 3
   },
   "file_extension": ".py",
   "mimetype": "text/x-python",
   "name": "python",
   "nbconvert_exporter": "python",
   "pygments_lexer": "ipython3",
   "version": "3.10.13"
  }
 },
 "nbformat": 4,
 "nbformat_minor": 2
}
