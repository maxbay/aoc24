{
 "cells": [
  {
   "cell_type": "code",
   "execution_count": 1,
   "metadata": {},
   "outputs": [
    {
     "name": "stdout",
     "output_type": "stream",
     "text": [
      "Part 1: 5275\n",
      "Part 2: 6191\n"
     ]
    }
   ],
   "source": [
    "from collections import defaultdict\n",
    "\n",
    "with open(\"../data/day5_dat.txt\") as f:\n",
    "    rules, updates = [x.split() for x in f.read().split(\"\\n\\n\")]\n",
    "\n",
    "d = defaultdict(list)\n",
    "for r in rules:\n",
    "    a, b = r.split(\"|\")\n",
    "    d[a].append(b)\n",
    "\n",
    "\n",
    "part1 = 0\n",
    "part2 = 0\n",
    "\n",
    "def repair_update(ud):\n",
    "    # initializes empty list and adds 2nd element to end of list unless rule is violated. \n",
    "    # scans from front of list to find first position where rule is not violated and inserts there.\n",
    "    new_ud = []\n",
    "    for u in ud:\n",
    "        counter = len(new_ud)\n",
    "        \n",
    "        while u in d and any(k in new_ud[:counter] for k in d[u]):\n",
    "            counter -= 1\n",
    "        new_ud.insert(counter, u)\n",
    "    \n",
    "    return int(new_ud[len(new_ud) // 2])\n",
    "    \n",
    "for update in updates:\n",
    "    ud = update.split(\",\")\n",
    "    \n",
    "    for i, u in enumerate(ud):\n",
    "        if u in d and any(k in ud[:i] for k in d[u]):\n",
    "            part2 += repair_update(ud)\n",
    "            break\n",
    "    else:\n",
    "        part1 += int(ud[len(ud) // 2])\n",
    "\n",
    "print('Part 1:', part1)\n",
    "print('Part 2:', part2)\n",
    "\n"
   ]
  }
 ],
 "metadata": {
  "kernelspec": {
   "display_name": "py310",
   "language": "python",
   "name": "python3"
  },
  "language_info": {
   "codemirror_mode": {
    "name": "ipython",
    "version": 3
   },
   "file_extension": ".py",
   "mimetype": "text/x-python",
   "name": "python",
   "nbconvert_exporter": "python",
   "pygments_lexer": "ipython3",
   "version": "3.10.13"
  }
 },
 "nbformat": 4,
 "nbformat_minor": 2
}
